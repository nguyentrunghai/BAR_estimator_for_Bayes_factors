{
 "cells": [
  {
   "cell_type": "code",
   "execution_count": 12,
   "metadata": {},
   "outputs": [],
   "source": [
    "import pickle\n",
    "import numpy as np\n",
    "\n",
    "from sklearn.mixture import GaussianMixture"
   ]
  },
  {
   "cell_type": "code",
   "execution_count": 2,
   "metadata": {},
   "outputs": [],
   "source": [
    "def get_values_from_trace(model, trace, thin=1, burn=0):\n",
    "    \"\"\"\n",
    "    :param model: pymc3 model\n",
    "    :param trace: pymc3 trace object\n",
    "    :param thin: int\n",
    "    :param burn: int, number of steps to exclude\n",
    "    :return: dict: varname --> ndarray\n",
    "    \"\"\"\n",
    "    varnames = [var.name for var in model.vars]\n",
    "    trace_values = {var: trace.get_values(var, thin=thin, burn=burn) for var in varnames}\n",
    "    return trace_values\n"
   ]
  },
  {
   "cell_type": "code",
   "execution_count": 35,
   "metadata": {},
   "outputs": [],
   "source": [
    "class GaussMix(object):\n",
    "    def __init__(self, n_components, covariance_type=\"diag\"):\n",
    "        self._n_components = n_components\n",
    "        self._vars = []\n",
    "        self._gm = GaussianMixture(n_components=self._n_components, covariance_type=covariance_type)\n",
    "    \n",
    "    def fit(self, sample_dict):\n",
    "        \"\"\"\n",
    "        :param sample_dict: dict, var --> 1d array\n",
    "        \"\"\"\n",
    "        self._vars = list(sample_dict.keys())\n",
    "        X_train = self._dict_to_array(sample_dict)\n",
    "        self._gm.fit(X_train)\n",
    "        return self\n",
    "    \n",
    "    def score_samples(self, sample_dict):\n",
    "        X = self._dict_to_array(sample_dict)\n",
    "        logp = self._gm.score_samples(X)\n",
    "        return logp\n",
    "    \n",
    "    def sample(self, n_samples=1):\n",
    "        X = self._gm.sample(n_samples=n_samples)\n",
    "        X_dict = {}\n",
    "        for i, v in enumerate(self._vars):\n",
    "            X_dict[v] = X[:, i]\n",
    "        return X_dict\n",
    "    \n",
    "    def get_vars(self):\n",
    "        return self._vars\n",
    "    \n",
    "    def get_model(self):\n",
    "        return self._gm\n",
    "    \n",
    "    def get_gm_fited_params(self):\n",
    "        weights = self._gm.weights_\n",
    "        means = self._gm.means_\n",
    "        covariances = self._gm.covariances_\n",
    "        \n",
    "        results = {}\n",
    "        for i, v in enumerate(self._vars):\n",
    "            results[v] = {}\n",
    "            results[v][\"weights\"] = weights\n",
    "            results[v][\"means\"] = [means[j][i] for j in range(self.n_components)]\n",
    "            results[v][\"sigmas\"] = [np.sqrt(covariances[j][i]) for j in range(self.n_components)]\n",
    "        return results\n",
    "    \n",
    "    def get_n_components(self):\n",
    "        return self._n_components\n",
    "    \n",
    "    def _dict_to_array(self, sample_dict):\n",
    "        X = [sample_dict[v] for v in self._vars]\n",
    "        X = np.stack(X, axis=1)\n",
    "        return X"
   ]
  },
  {
   "cell_type": "code",
   "execution_count": 6,
   "metadata": {},
   "outputs": [],
   "source": [
    "model = pickle.load(open(\"data/pm_model.pickle\", \"rb\"), encoding=\"latin1\")\n",
    "trace = pickle.load(open(\"data/trace_obj.pickle\", \"rb\"), encoding=\"latin1\")"
   ]
  },
  {
   "cell_type": "code",
   "execution_count": 7,
   "metadata": {},
   "outputs": [],
   "source": [
    "sample = get_values_from_trace(model, trace, thin=10, burn=1000)"
   ]
  },
  {
   "cell_type": "code",
   "execution_count": 8,
   "metadata": {},
   "outputs": [
    {
     "data": {
      "text/plain": [
       "dict_keys(['P0_interval__', 'Ls_log__', 'rho_interval__', 'DeltaG1_interval__', 'DeltaDeltaG_interval__', 'DeltaH1_interval__', 'DeltaH2_interval__', 'DeltaH_0_interval__', 'log_sigma_interval__'])"
      ]
     },
     "execution_count": 8,
     "metadata": {},
     "output_type": "execute_result"
    }
   ],
   "source": [
    "sample.keys()"
   ]
  },
  {
   "cell_type": "code",
   "execution_count": 9,
   "metadata": {},
   "outputs": [],
   "source": [
    "vars_redun = [\"DeltaDeltaG_interval__\", \"DeltaH2_interval__\", \"rho_interval__\"]\n",
    "sample_redun = {v: sample[v] for v in vars_redun}"
   ]
  },
  {
   "cell_type": "code",
   "execution_count": 36,
   "metadata": {},
   "outputs": [
    {
     "data": {
      "text/plain": [
       "<__main__.GaussMix at 0x1c269e07f0>"
      ]
     },
     "execution_count": 36,
     "metadata": {},
     "output_type": "execute_result"
    }
   ],
   "source": [
    "gm = GaussMix(n_components=2)\n",
    "gm.fit(sample_redun)"
   ]
  },
  {
   "cell_type": "code",
   "execution_count": 37,
   "metadata": {},
   "outputs": [
    {
     "data": {
      "text/plain": [
       "['DeltaDeltaG_interval__', 'DeltaH2_interval__', 'rho_interval__']"
      ]
     },
     "execution_count": 37,
     "metadata": {},
     "output_type": "execute_result"
    }
   ],
   "source": [
    "gm.get_vars()"
   ]
  },
  {
   "cell_type": "code",
   "execution_count": 38,
   "metadata": {},
   "outputs": [
    {
     "data": {
      "text/plain": [
       "[{'weight': 0.6158551014743028,\n",
       "  'mean': -2.0988126610978113,\n",
       "  'sigma': array([0.0113226 , 0.0040884 , 0.05062079])},\n",
       " {'weight': 0.3841448985256964,\n",
       "  'mean': -2.0727776419495987,\n",
       "  'sigma': array([0.01297718, 0.00521766, 0.06248262])}]"
      ]
     },
     "execution_count": 38,
     "metadata": {},
     "output_type": "execute_result"
    }
   ],
   "source": [
    "gm.get_gm_fited_params()"
   ]
  },
  {
   "cell_type": "code",
   "execution_count": 39,
   "metadata": {},
   "outputs": [],
   "source": [
    "gm_model = gm.get_model()"
   ]
  },
  {
   "cell_type": "code",
   "execution_count": 43,
   "metadata": {},
   "outputs": [
    {
     "data": {
      "text/plain": [
       "array([0.6158551, 0.3841449])"
      ]
     },
     "execution_count": 43,
     "metadata": {},
     "output_type": "execute_result"
    }
   ],
   "source": [
    "gm_model.weights_"
   ]
  },
  {
   "cell_type": "code",
   "execution_count": 41,
   "metadata": {},
   "outputs": [
    {
     "data": {
      "text/plain": [
       "array([[-2.09881266, -0.036     , -1.68769259],\n",
       "       [-2.07277764, -0.04358964, -1.8077247 ]])"
      ]
     },
     "execution_count": 41,
     "metadata": {},
     "output_type": "execute_result"
    }
   ],
   "source": [
    "gm_model.means_"
   ]
  },
  {
   "cell_type": "code",
   "execution_count": 42,
   "metadata": {},
   "outputs": [
    {
     "data": {
      "text/plain": [
       "array([[1.28201278e-04, 1.67150236e-05, 2.56246430e-03],\n",
       "       [1.68407083e-04, 2.72239836e-05, 3.90407796e-03]])"
      ]
     },
     "execution_count": 42,
     "metadata": {},
     "output_type": "execute_result"
    }
   ],
   "source": [
    "gm_model.covariances_"
   ]
  }
 ],
 "metadata": {
  "kernelspec": {
   "display_name": "Python 3",
   "language": "python",
   "name": "python3"
  },
  "language_info": {
   "codemirror_mode": {
    "name": "ipython",
    "version": 3
   },
   "file_extension": ".py",
   "mimetype": "text/x-python",
   "name": "python",
   "nbconvert_exporter": "python",
   "pygments_lexer": "ipython3",
   "version": "3.7.3"
  }
 },
 "nbformat": 4,
 "nbformat_minor": 2
}
