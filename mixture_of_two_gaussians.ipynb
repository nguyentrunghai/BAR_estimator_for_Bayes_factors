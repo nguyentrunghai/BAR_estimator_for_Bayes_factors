{
 "cells": [
  {
   "cell_type": "code",
   "execution_count": 8,
   "metadata": {},
   "outputs": [],
   "source": [
    "import pickle\n",
    "\n",
    "from scipy.stats import norm\n",
    "from scipy.stats import iqr\n",
    "\n",
    "import numpy as np\n",
    "import pymc3 as pm\n",
    "import theano.tensor as tt\n",
    "import pymbar\n",
    "\n",
    "import matplotlib.pyplot as plt\n",
    "%matplotlib inline\n",
    "import seaborn as sns\n",
    "sns.set()"
   ]
  },
  {
   "cell_type": "code",
   "execution_count": 9,
   "metadata": {},
   "outputs": [],
   "source": [
    "SEED = 2039\n",
    "SIZE = 50\n",
    "\n",
    "SMC_STEPS = 20000\n",
    "MET_STEPS = 20000"
   ]
  },
  {
   "cell_type": "markdown",
   "metadata": {},
   "source": [
    "# Data Generation"
   ]
  },
  {
   "cell_type": "code",
   "execution_count": 10,
   "metadata": {},
   "outputs": [],
   "source": [
    "def gaussian_mixture(mu1=0, sigma1=1, mu2=0, sigma2=1,\n",
    "                     rho=0.5,\n",
    "                     size=100, random_state=None):\n",
    "    rnd = np.random.RandomState(random_state)\n",
    "    x = []\n",
    "    for _ in range(size):\n",
    "        if rnd.rand() < rho:\n",
    "            x.append(rnd.normal(loc=mu1, scale=sigma1))\n",
    "        else:\n",
    "            x.append(rnd.normal(loc=mu2, scale=sigma2))\n",
    "    return np.array(x)"
   ]
  },
  {
   "cell_type": "code",
   "execution_count": 11,
   "metadata": {},
   "outputs": [
    {
     "data": {
      "text/plain": [
       "<matplotlib.axes._subplots.AxesSubplot at 0x1c1b8c89e8>"
      ]
     },
     "execution_count": 11,
     "metadata": {},
     "output_type": "execute_result"
    },
    {
     "data": {
      "image/png": "[encoded data removed]",
      "text/plain": [
       "<Figure size 432x288 with 1 Axes>"
      ]
     },
     "metadata": {},
     "output_type": "display_data"
    }
   ],
   "source": [
    "x = gaussian_mixture(mu1=0, sigma1=1, mu2=4, sigma2=1, rho=0.5, size=SIZE, random_state=SEED)\n",
    "sns.distplot(x)"
   ]
  },
  {
   "cell_type": "markdown",
   "metadata": {},
   "source": [
    "# Models"
   ]
  },
  {
   "cell_type": "markdown",
   "metadata": {},
   "source": [
    "## Model 1"
   ]
  },
  {
   "cell_type": "code",
   "execution_count": 12,
   "metadata": {},
   "outputs": [
    {
     "name": "stdout",
     "output_type": "stream",
     "text": [
      "[mu_interval__]\n"
     ]
    }
   ],
   "source": [
    "with pm.Model() as model_m1:\n",
    "    mu = pm.Uniform(\"mu\", lower=-10, upper=10)\n",
    "    obs = pm.Normal(\"obs\", mu=mu, sigma=1, observed=x)\n",
    "\n",
    "print(model_m1.vars)"
   ]
  },
  {
   "cell_type": "markdown",
   "metadata": {},
   "source": [
    "## Model 2"
   ]
  },
  {
   "cell_type": "code",
   "execution_count": 14,
   "metadata": {},
   "outputs": [
    {
     "name": "stdout",
     "output_type": "stream",
     "text": [
      "[mu1_interval__, dmu_interval__]\n"
     ]
    }
   ],
   "source": [
    "with pm.Model() as model_2:\n",
    "    w = pm.floatX([.5, .5])\n",
    "    sigmas = pm.floatX([1., 1])\n",
    "    \n",
    "    mu1 = pm.Uniform(\"mu1\", lower=-10, upper=10)\n",
    "    dmu = pm.Uniform(\"dmu\", lower=0, upper=10)\n",
    "    means = tt.zeros([2])\n",
    "    means = tt.set_subtensor(means[0], mu1)\n",
    "    means = tt.set_subtensor(means[1], mu1 + dmu)\n",
    "    \n",
    "    obs = pm.NormalMixture(\"obs\", w=w, mu=means, sigma=sigmas, observed=x)\n",
    "\n",
    "print(model_2.vars)"
   ]
  },
  {
   "cell_type": "markdown",
   "metadata": {},
   "source": [
    "# Sequential Monte Carlo"
   ]
  },
  {
   "cell_type": "code",
   "execution_count": 15,
   "metadata": {},
   "outputs": [],
   "source": [
    "def bayes_factor_smc(model_ini, model_fin):\n",
    "    log_bf = np.log10(model_fin.marginal_likelihood) - np.log10(model_ini.marginal_likelihood)\n",
    "    return log_bf"
   ]
  }
 ],
 "metadata": {
  "kernelspec": {
   "display_name": "Python 3",
   "language": "python",
   "name": "python3"
  },
  "language_info": {
   "codemirror_mode": {
    "name": "ipython",
    "version": 3
   },
   "file_extension": ".py",
   "mimetype": "text/x-python",
   "name": "python",
   "nbconvert_exporter": "python",
   "pygments_lexer": "ipython3",
   "version": "3.7.3"
  }
 },
 "nbformat": 4,
 "nbformat_minor": 2
}
